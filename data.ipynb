{
 "cells": [
  {
   "cell_type": "code",
   "execution_count": 5,
   "metadata": {},
   "outputs": [
    {
     "name": "stdout",
     "output_type": "stream",
     "text": [
      "python is working...\n"
     ]
    }
   ],
   "source": [
    "print(\"python is working...\")"
   ]
  },
  {
   "cell_type": "code",
   "execution_count": 7,
   "metadata": {},
   "outputs": [
    {
     "data": {
      "image/png": "[encoded data removed]",
      "text/plain": [
       "<IPython.core.display.Image object>"
      ]
     },
     "metadata": {},
     "output_type": "display_data"
    }
   ],
   "source": [
    "from langgraph.prebuilt import create_react_agent\n",
    "from langgraph.checkpoint.memory import MemorySaver\n",
    "from langchain_core.tools import tool\n",
    "from typing import Literal\n",
    "import os\n",
    "from langchain_core.messages import HumanMessage\n",
    "from langchain_openai import ChatOpenAI\n",
    "from dotenv import load_dotenv\n",
    "from langgraph.prebuilt.chat_agent_executor import (\n",
    "    AgentState,\n",
    ")\n",
    "from langgraph.graph import START, END, Graph, MessagesState\n",
    "from langgraph.errors import GraphInterrupt\n",
    "from langgraph.types import Command\n",
    "from langgraph.types import interrupt\n",
    "from IPython.display import Image, display\n",
    "\n",
    "\n",
    "load_dotenv()\n",
    "\n",
    "model = ChatOpenAI(model=\"gpt-4o-mini\", temperature=0)\n",
    "memory = MemorySaver()\n",
    "\n",
    "\n",
    "class AgentState(MessagesState):\n",
    "    \"\"\"State for our agents.\"\"\"\n",
    "    pass\n",
    "\n",
    "\n",
    "@tool\n",
    "def get_weather(location: str):\n",
    "    \"\"\"Use this to get weather information from a given location.\"\"\"\n",
    "    print(\"starting api call....................\")\n",
    "    answer = interrupt(\n",
    "        # This value will be sent to the client\n",
    "        # as part of the interrupt information.\n",
    "        \"confirm access to weather information\",\n",
    "    )\n",
    "    if answer == \"yes\":\n",
    "        print(\"get_weather...........................\")\n",
    "        if location.lower() in [\"nyc\", \"new york\"]:\n",
    "            return \"It might be cloudy in nyc\"\n",
    "        elif location.lower() in [\"sf\", \"san francisco\"]:\n",
    "            return \"It's always sunny in sf\"\n",
    "        else:\n",
    "            raise AssertionError(\"Unknown Location\")\n",
    "    else:\n",
    "        print(\"no permission........................\")\n",
    "        return \"You don't have permission to access this information.\"\n",
    "\n",
    "\n",
    "tools = [get_weather]\n",
    "\n",
    "react_agent = create_react_agent(\n",
    "    model, tools=tools\n",
    ")\n",
    "\n",
    "\n",
    "def finalized(agent_state: AgentState):\n",
    "    \"\"\"A function to handle finalization.\"\"\"\n",
    "    print(\"Finalized\")\n",
    "    print(agent_state)\n",
    "\n",
    "\n",
    "builder = Graph()\n",
    "builder.add_node(\"react_agent\", react_agent)\n",
    "builder.add_node(\"finalized\", finalized)\n",
    "\n",
    "builder.add_edge(\"react_agent\", \"finalized\")\n",
    "builder.add_edge(\"finalized\", END)\n",
    "\n",
    "builder.set_entry_point(\"react_agent\")\n",
    "\n",
    "graph = builder.compile(checkpointer=memory)\n",
    "\n",
    "display(Image(graph.get_graph().draw_mermaid_png()))\n"
   ]
  }
 ],
 "metadata": {
  "kernelspec": {
   "display_name": ".venv",
   "language": "python",
   "name": "python3"
  },
  "language_info": {
   "codemirror_mode": {
    "name": "ipython",
    "version": 3
   },
   "file_extension": ".py",
   "mimetype": "text/x-python",
   "name": "python",
   "nbconvert_exporter": "python",
   "pygments_lexer": "ipython3",
   "version": "3.11.1"
  }
 },
 "nbformat": 4,
 "nbformat_minor": 2
}
